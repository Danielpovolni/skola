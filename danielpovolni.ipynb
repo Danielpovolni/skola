{
 "cells": [
  {
   "cell_type": "code",
   "execution_count": 6,
   "id": "d4b6c303",
   "metadata": {},
   "outputs": [
    {
     "name": "stdout",
     "output_type": "stream",
     "text": [
      "Visine koje su ispod proseka su: [1.54, 1.62, 1.65, 1.56]\n"
     ]
    }
   ],
   "source": [
    "Visina = [1.72, 1.69, 1.54, 1.70, 1.81, 1.62, 1.65, 1.71, 1.70, 1.56, 1.67]\n",
    "def prosek(Visina):\n",
    "    return sum(Visina)/len(Visina)\n",
    "prosek_visina = prosek(Visina)\n",
    "Visina_ispod_proseka = [x for x in Visina if x < prosek_visina]\n",
    "print(\"Visine koje su ispod proseka su:\", Visina_ispod_proseka)"
   ]
  },
  {
   "cell_type": "code",
   "execution_count": 9,
   "id": "43c60611",
   "metadata": {},
   "outputs": [
    {
     "name": "stdout",
     "output_type": "stream",
     "text": [
      "Ucenik ima 5 petica\n",
      "Ucenik ima 5 cetvorki\n",
      "Ucenik ima 2 trojki\n",
      "Ucenik ima 1 dvojki\n",
      "Ucenik ima 0 keca\n"
     ]
    }
   ],
   "source": [
    "ocene = [4,4,5,3,5,5,2,4,5,4,3,5,4]\n",
    "ocena5 = ocene.count(5)\n",
    "ocena4 = ocene.count(4)\n",
    "ocena3 = ocene.count(3)\n",
    "ocena2 = ocene.count(2)\n",
    "ocena1 = ocene.count(1)\n",
    "print(\"Ucenik ima\", ocena5, \"petica\")\n",
    "print(\"Ucenik ima\", ocena4, \"cetvorki\")\n",
    "print(\"Ucenik ima\", ocena3, \"trojki\")\n",
    "print(\"Ucenik ima\", ocena2, \"dvojki\")\n",
    "print(\"Ucenik ima\", ocena1, \"keca\")\n"
   ]
  },
  {
   "cell_type": "code",
   "execution_count": 10,
   "id": "40452de8",
   "metadata": {},
   "outputs": [
    {
     "name": "stdout",
     "output_type": "stream",
     "text": [
      "Ucenik ima 38.46 % petica\n",
      "Ucenik ima 38.46 % cetvorki\n",
      "Ucenik ima 15.38 % trojki\n",
      "Ucenik ima 7.69 % dvojki\n",
      "Ucenik ima 0.0 % keceva\n"
     ]
    }
   ],
   "source": [
    "broj = len(ocene)\n",
    "pro5 = 100.0 * ocena5 / broj\n",
    "pro4 = 100.0 * ocena4 / broj\n",
    "pro3 = 100.0 * ocena3 / broj\n",
    "pro2 = 100.0 * ocena2 / broj\n",
    "pro1 = 100.0 * ocena1 / broj\n",
    "print(\"Ucenik ima\", round(pro5, 2), \"% petica\")\n",
    "print(\"Ucenik ima\", round(pro4, 2), \"% cetvorki\")\n",
    "print(\"Ucenik ima\", round(pro3, 2), \"% trojki\")\n",
    "print(\"Ucenik ima\", round(pro2, 2), \"% dvojki\")\n",
    "print(\"Ucenik ima\", round(pro1, 2), \"% keceva\")\n"
   ]
  },
  {
   "cell_type": "code",
   "execution_count": null,
   "id": "da472163",
   "metadata": {},
   "outputs": [],
   "source": []
  }
 ],
 "metadata": {
  "kernelspec": {
   "display_name": "Python 3 (ipykernel)",
   "language": "python",
   "name": "python3"
  },
  "language_info": {
   "codemirror_mode": {
    "name": "ipython",
    "version": 3
   },
   "file_extension": ".py",
   "mimetype": "text/x-python",
   "name": "python",
   "nbconvert_exporter": "python",
   "pygments_lexer": "ipython3",
   "version": "3.11.1"
  }
 },
 "nbformat": 4,
 "nbformat_minor": 5
}
