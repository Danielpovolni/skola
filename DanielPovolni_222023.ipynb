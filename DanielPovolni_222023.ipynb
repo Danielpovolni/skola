{
 "cells": [
  {
   "cell_type": "code",
   "execution_count": 7,
   "id": "88b14f39",
   "metadata": {},
   "outputs": [
    {
     "name": "stdout",
     "output_type": "stream",
     "text": [
      "prosecna temperatura je:  30.25\n"
     ]
    }
   ],
   "source": [
    "gradovi = [\"Beograd\", \"Novi Sad\", \"Nis\",\"Sombor\"]\n",
    "temperature = [32,30,31, 28]\n",
    "print(\"prosecna temperatura je: \", sum(temperature)/len(gradovi))        "
   ]
  },
  {
   "cell_type": "code",
   "execution_count": 9,
   "id": "9359ead5",
   "metadata": {},
   "outputs": [
    {
     "name": "stdout",
     "output_type": "stream",
     "text": [
      "prosecna temperatura je:  30.25\n"
     ]
    }
   ],
   "source": [
    "def prosek(x):\n",
    "    return sum(x)/len(x)\n",
    "print(\"prosecna temperatura je: \", prosek(temperature))    "
   ]
  },
  {
   "cell_type": "code",
   "execution_count": 11,
   "id": "4228a3b5",
   "metadata": {},
   "outputs": [
    {
     "data": {
      "text/plain": [
       "28"
      ]
     },
     "execution_count": 11,
     "metadata": {},
     "output_type": "execute_result"
    }
   ],
   "source": [
    "max(temperature)\n",
    "min(temperature)"
   ]
  },
  {
   "cell_type": "code",
   "execution_count": 15,
   "id": "a62b6c6b",
   "metadata": {},
   "outputs": [
    {
     "name": "stdout",
     "output_type": "stream",
     "text": [
      "[32, 31, 30, 28]\n"
     ]
    }
   ],
   "source": [
    "temperature.sort(reverse=True)\n",
    "print(temperature)"
   ]
  },
  {
   "cell_type": "code",
   "execution_count": 1,
   "id": "94f82f51",
   "metadata": {},
   "outputs": [
    {
     "name": "stdout",
     "output_type": "stream",
     "text": [
      "meridijan ocena je: 2\n"
     ]
    }
   ],
   "source": [
    "ocene = [5,2,2,2,3,4,2,2,3,3,2,2,2,5,2,3,4,4,2,2,2,3]\n",
    "def medijana(ocene):\n",
    "    m = len(ocene)\n",
    "    ocene.sort()\n",
    "    return(ocene[m//2])\n",
    "print(\"meridijan ocena je:\", medijana(ocene))"
   ]
  },
  {
   "cell_type": "code",
   "execution_count": null,
   "id": "f4535a9e",
   "metadata": {},
   "outputs": [],
   "source": [
    "visina = [1.72, 1.69, 1.54, 1.70, 1.81, 1.62, 1.65, 1.71, 1.70, 1.56, 1.67]"
   ]
  }
 ],
 "metadata": {
  "kernelspec": {
   "display_name": "Python 3 (ipykernel)",
   "language": "python",
   "name": "python3"
  },
  "language_info": {
   "codemirror_mode": {
    "name": "ipython",
    "version": 3
   },
   "file_extension": ".py",
   "mimetype": "text/x-python",
   "name": "python",
   "nbconvert_exporter": "python",
   "pygments_lexer": "ipython3",
   "version": "3.11.1"
  }
 },
 "nbformat": 4,
 "nbformat_minor": 5
}
