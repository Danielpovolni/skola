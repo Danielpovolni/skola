{
 "cells": [
  {
   "cell_type": "code",
   "execution_count": 1,
   "id": "41b1d649",
   "metadata": {},
   "outputs": [],
   "source": [
    "import pandas as pd"
   ]
  },
  {
   "cell_type": "code",
   "execution_count": 13,
   "id": "fde39e4c",
   "metadata": {},
   "outputs": [
    {
     "data": {
      "text/html": [
       "<div>\n",
       "<style scoped>\n",
       "    .dataframe tbody tr th:only-of-type {\n",
       "        vertical-align: middle;\n",
       "    }\n",
       "\n",
       "    .dataframe tbody tr th {\n",
       "        vertical-align: top;\n",
       "    }\n",
       "\n",
       "    .dataframe thead th {\n",
       "        text-align: right;\n",
       "    }\n",
       "</style>\n",
       "<table border=\"1\" class=\"dataframe\">\n",
       "  <thead>\n",
       "    <tr style=\"text-align: right;\">\n",
       "      <th></th>\n",
       "      <th>teritorija</th>\n",
       "      <th>broj_bioskopa</th>\n",
       "      <th>broj_sedista</th>\n",
       "      <th>broj_predstava</th>\n",
       "      <th>broj_posetilaca_na_100</th>\n",
       "    </tr>\n",
       "  </thead>\n",
       "  <tbody>\n",
       "    <tr>\n",
       "      <th>0</th>\n",
       "      <td>Beogradski_region</td>\n",
       "      <td>19</td>\n",
       "      <td>14376</td>\n",
       "      <td>66907</td>\n",
       "      <td>1080</td>\n",
       "    </tr>\n",
       "    <tr>\n",
       "      <th>1</th>\n",
       "      <td>Region_Vojvodine</td>\n",
       "      <td>24</td>\n",
       "      <td>8467</td>\n",
       "      <td>34968</td>\n",
       "      <td>300</td>\n",
       "    </tr>\n",
       "    <tr>\n",
       "      <th>2</th>\n",
       "      <td>Region_Sumadije</td>\n",
       "      <td>32</td>\n",
       "      <td>11520</td>\n",
       "      <td>11235</td>\n",
       "      <td>210</td>\n",
       "    </tr>\n",
       "    <tr>\n",
       "      <th>3</th>\n",
       "      <td>region_juzne_i_istocne_srbije</td>\n",
       "      <td>19</td>\n",
       "      <td>6562</td>\n",
       "      <td>13107</td>\n",
       "      <td>200</td>\n",
       "    </tr>\n",
       "  </tbody>\n",
       "</table>\n",
       "</div>"
      ],
      "text/plain": [
       "                      teritorija  broj_bioskopa  broj_sedista  broj_predstava  \\\n",
       "0              Beogradski_region             19         14376           66907   \n",
       "1               Region_Vojvodine             24          8467           34968   \n",
       "2                Region_Sumadije             32         11520           11235   \n",
       "3  region_juzne_i_istocne_srbije             19          6562           13107   \n",
       "\n",
       "   broj_posetilaca_na_100  \n",
       "0                    1080  \n",
       "1                     300  \n",
       "2                     210  \n",
       "3                     200  "
      ]
     },
     "execution_count": 13,
     "metadata": {},
     "output_type": "execute_result"
    }
   ],
   "source": [
    "bioskopi=[[\"Beogradski_region\",19,14376,66907,1080],\n",
    "          [\"Region_Vojvodine\", 24,8467,34968,300],\n",
    "          [\"Region_Sumadije\",32,11520,11235,210],\n",
    "          [\"region_juzne_i_istocne_srbije\",19,6562,13107,200]]\n",
    "tabela=pd.DataFrame(bioskopi)\n",
    "tabela.columns=[\"teritorija\",\"broj_bioskopa\",\"broj_sedista\", \"broj_predstava\",\"broj_posetilaca_na_100\"]\n",
    "tabela"
   ]
  },
  {
   "cell_type": "code",
   "execution_count": 16,
   "id": "52e97c9c",
   "metadata": {},
   "outputs": [
    {
     "data": {
      "text/html": [
       "<div>\n",
       "<style scoped>\n",
       "    .dataframe tbody tr th:only-of-type {\n",
       "        vertical-align: middle;\n",
       "    }\n",
       "\n",
       "    .dataframe tbody tr th {\n",
       "        vertical-align: top;\n",
       "    }\n",
       "\n",
       "    .dataframe thead th {\n",
       "        text-align: right;\n",
       "    }\n",
       "</style>\n",
       "<table border=\"1\" class=\"dataframe\">\n",
       "  <thead>\n",
       "    <tr style=\"text-align: right;\">\n",
       "      <th></th>\n",
       "      <th>broj_bioskopa</th>\n",
       "      <th>broj_sedista</th>\n",
       "      <th>broj_predstava</th>\n",
       "      <th>broj_posetilaca_na_100</th>\n",
       "    </tr>\n",
       "    <tr>\n",
       "      <th>teritorija</th>\n",
       "      <th></th>\n",
       "      <th></th>\n",
       "      <th></th>\n",
       "      <th></th>\n",
       "    </tr>\n",
       "  </thead>\n",
       "  <tbody>\n",
       "    <tr>\n",
       "      <th>Beogradski_region</th>\n",
       "      <td>19</td>\n",
       "      <td>14376</td>\n",
       "      <td>66907</td>\n",
       "      <td>1080</td>\n",
       "    </tr>\n",
       "    <tr>\n",
       "      <th>Region_Vojvodine</th>\n",
       "      <td>24</td>\n",
       "      <td>8467</td>\n",
       "      <td>34968</td>\n",
       "      <td>300</td>\n",
       "    </tr>\n",
       "    <tr>\n",
       "      <th>Region_Sumadije</th>\n",
       "      <td>32</td>\n",
       "      <td>11520</td>\n",
       "      <td>11235</td>\n",
       "      <td>210</td>\n",
       "    </tr>\n",
       "    <tr>\n",
       "      <th>region_juzne_i_istocne_srbije</th>\n",
       "      <td>19</td>\n",
       "      <td>6562</td>\n",
       "      <td>13107</td>\n",
       "      <td>200</td>\n",
       "    </tr>\n",
       "  </tbody>\n",
       "</table>\n",
       "</div>"
      ],
      "text/plain": [
       "                               broj_bioskopa  broj_sedista  broj_predstava  \\\n",
       "teritorija                                                                   \n",
       "Beogradski_region                         19         14376           66907   \n",
       "Region_Vojvodine                          24          8467           34968   \n",
       "Region_Sumadije                           32         11520           11235   \n",
       "region_juzne_i_istocne_srbije             19          6562           13107   \n",
       "\n",
       "                               broj_posetilaca_na_100  \n",
       "teritorija                                             \n",
       "Beogradski_region                                1080  \n",
       "Region_Vojvodine                                  300  \n",
       "Region_Sumadije                                   210  \n",
       "region_juzne_i_istocne_srbije                     200  "
      ]
     },
     "execution_count": 16,
     "metadata": {},
     "output_type": "execute_result"
    }
   ],
   "source": [
    "bioskopi=[[\"Beogradski_region\",19,14376,66907,1080],\n",
    "          [\"Region_Vojvodine\", 24,8467,34968,300],\n",
    "          [\"Region_Sumadije\",32,11520,11235,210],\n",
    "          [\"region_juzne_i_istocne_srbije\",19,6562,13107,200]]\n",
    "tabela=pd.DataFrame(bioskopi)\n",
    "tabela.columns=[\"teritorija\",\"broj_bioskopa\",\"broj_sedista\", \"broj_predstava\",\"broj_posetilaca_na_100\"]\n",
    "indeksirana_tabela = tabela.set_index(\"teritorija\")\n",
    "indeksirana_tabela"
   ]
  },
  {
   "cell_type": "code",
   "execution_count": 19,
   "id": "0cb90a7d",
   "metadata": {},
   "outputs": [
    {
     "data": {
      "text/plain": [
       "broj_bioskopa                19\n",
       "broj_sedista              14376\n",
       "broj_predstava            66907\n",
       "broj_posetilaca_na_100     1080\n",
       "Name: Beogradski_region, dtype: int64"
      ]
     },
     "execution_count": 19,
     "metadata": {},
     "output_type": "execute_result"
    }
   ],
   "source": [
    "indeksirana_tabela.index\n",
    "indeksirana_tabela.loc[\"Beogradski_region\"]"
   ]
  },
  {
   "cell_type": "code",
   "execution_count": null,
   "id": "b792000c",
   "metadata": {},
   "outputs": [],
   "source": [
    "sefsef"
   ]
  }
 ],
 "metadata": {
  "kernelspec": {
   "display_name": "Python 3 (ipykernel)",
   "language": "python",
   "name": "python3"
  },
  "language_info": {
   "codemirror_mode": {
    "name": "ipython",
    "version": 3
   },
   "file_extension": ".py",
   "mimetype": "text/x-python",
   "name": "python",
   "nbconvert_exporter": "python",
   "pygments_lexer": "ipython3",
   "version": "3.11.2"
  }
 },
 "nbformat": 4,
 "nbformat_minor": 5
}
