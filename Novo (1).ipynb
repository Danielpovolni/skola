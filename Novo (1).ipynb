{
 "cells": [
  {
   "cell_type": "code",
   "execution_count": 2,
   "id": "41b1d649",
   "metadata": {},
   "outputs": [],
   "source": [
    "import pandas as pd"
   ]
  },
  {
   "cell_type": "code",
   "execution_count": 13,
   "id": "fde39e4c",
   "metadata": {
    "scrolled": true
   },
   "outputs": [
    {
     "data": {
      "text/html": [
       "<div>\n",
       "<style scoped>\n",
       "    .dataframe tbody tr th:only-of-type {\n",
       "        vertical-align: middle;\n",
       "    }\n",
       "\n",
       "    .dataframe tbody tr th {\n",
       "        vertical-align: top;\n",
       "    }\n",
       "\n",
       "    .dataframe thead th {\n",
       "        text-align: right;\n",
       "    }\n",
       "</style>\n",
       "<table border=\"1\" class=\"dataframe\">\n",
       "  <thead>\n",
       "    <tr style=\"text-align: right;\">\n",
       "      <th></th>\n",
       "      <th>teritorija</th>\n",
       "      <th>broj_bioskopa</th>\n",
       "      <th>broj_sedista</th>\n",
       "      <th>broj_predstava</th>\n",
       "      <th>broj_posetilaca_na_100</th>\n",
       "    </tr>\n",
       "  </thead>\n",
       "  <tbody>\n",
       "    <tr>\n",
       "      <th>0</th>\n",
       "      <td>Beogradski_region</td>\n",
       "      <td>19</td>\n",
       "      <td>14376</td>\n",
       "      <td>66907</td>\n",
       "      <td>1080</td>\n",
       "    </tr>\n",
       "    <tr>\n",
       "      <th>1</th>\n",
       "      <td>Region_Vojvodine</td>\n",
       "      <td>24</td>\n",
       "      <td>8467</td>\n",
       "      <td>34968</td>\n",
       "      <td>300</td>\n",
       "    </tr>\n",
       "    <tr>\n",
       "      <th>2</th>\n",
       "      <td>Region_Sumadije</td>\n",
       "      <td>32</td>\n",
       "      <td>11520</td>\n",
       "      <td>11235</td>\n",
       "      <td>210</td>\n",
       "    </tr>\n",
       "    <tr>\n",
       "      <th>3</th>\n",
       "      <td>region_juzne_i_istocne_srbije</td>\n",
       "      <td>19</td>\n",
       "      <td>6562</td>\n",
       "      <td>13107</td>\n",
       "      <td>200</td>\n",
       "    </tr>\n",
       "  </tbody>\n",
       "</table>\n",
       "</div>"
      ],
      "text/plain": [
       "                      teritorija  broj_bioskopa  broj_sedista  broj_predstava  \\\n",
       "0              Beogradski_region             19         14376           66907   \n",
       "1               Region_Vojvodine             24          8467           34968   \n",
       "2                Region_Sumadije             32         11520           11235   \n",
       "3  region_juzne_i_istocne_srbije             19          6562           13107   \n",
       "\n",
       "   broj_posetilaca_na_100  \n",
       "0                    1080  \n",
       "1                     300  \n",
       "2                     210  \n",
       "3                     200  "
      ]
     },
     "execution_count": 13,
     "metadata": {},
     "output_type": "execute_result"
    }
   ],
   "source": [
    "bioskopi=[[\"Beogradski_region\",19,14376,66907,1080],\n",
    "          [\"Region_Vojvodine\", 24,8467,34968,300],\n",
    "          [\"Region_Sumadije\",32,11520,11235,210],\n",
    "          [\"region_juzne_i_istocne_srbije\",19,6562,13107,200]]\n",
    "tabela=pd.DataFrame(bioskopi)\n",
    "tabela.columns=[\"teritorija\",\"broj_bioskopa\",\"broj_sedista\", \"broj_predstava\",\"broj_posetilaca_na_100\"]\n",
    "tabela"
   ]
  },
  {
   "cell_type": "code",
   "execution_count": 9,
   "id": "52e97c9c",
   "metadata": {
    "scrolled": false
   },
   "outputs": [],
   "source": [
    "bioskopi=[[\"Beogradski_region\",19,14376,66907,1080],\n",
    "          [\"Region_Vojvodine\", 24,8467,34968,300],\n",
    "          [\"Region_Sumadije\",32,11520,11235,210],\n",
    "          [\"region_juzne_i_istocne_srbije\",19,6562,13107,200]]\n",
    "tabela=pd.DataFrame(bioskopi)\n",
    "tabela.columns=[\"teritorija\",\"broj_bioskopa\",\"broj_sedista\", \"broj_predstava\",\"broj_posetilaca_na_100\"]\n",
    "\n",
    "indeksirana_tabela = tabela.set_index(\"teritorija\")\n",
    "\n"
   ]
  },
  {
   "cell_type": "code",
   "execution_count": 19,
   "id": "0cb90a7d",
   "metadata": {},
   "outputs": [
    {
     "data": {
      "text/plain": [
       "broj_bioskopa                19\n",
       "broj_sedista              14376\n",
       "broj_predstava            66907\n",
       "broj_posetilaca_na_100     1080\n",
       "Name: Beogradski_region, dtype: int64"
      ]
     },
     "execution_count": 19,
     "metadata": {},
     "output_type": "execute_result"
    }
   ],
   "source": [
    "indeksirana_tabela.index\n",
    "indeksirana_tabela.loc[\"Beogradski_region\"]"
   ]
  },
  {
   "cell_type": "code",
   "execution_count": 7,
   "id": "b792000c",
   "metadata": {},
   "outputs": [
    {
     "data": {
      "text/html": [
       "<div>\n",
       "<style scoped>\n",
       "    .dataframe tbody tr th:only-of-type {\n",
       "        vertical-align: middle;\n",
       "    }\n",
       "\n",
       "    .dataframe tbody tr th {\n",
       "        vertical-align: top;\n",
       "    }\n",
       "\n",
       "    .dataframe thead th {\n",
       "        text-align: right;\n",
       "    }\n",
       "</style>\n",
       "<table border=\"1\" class=\"dataframe\">\n",
       "  <thead>\n",
       "    <tr style=\"text-align: right;\">\n",
       "      <th>teritorija</th>\n",
       "      <th>Beogradski_region</th>\n",
       "      <th>Region_Vojvodine</th>\n",
       "      <th>Region_Sumadije</th>\n",
       "      <th>region_juzne_i_istocne_srbije</th>\n",
       "    </tr>\n",
       "  </thead>\n",
       "  <tbody>\n",
       "    <tr>\n",
       "      <th>broj_bioskopa</th>\n",
       "      <td>19</td>\n",
       "      <td>24</td>\n",
       "      <td>32</td>\n",
       "      <td>19</td>\n",
       "    </tr>\n",
       "    <tr>\n",
       "      <th>broj_sedista</th>\n",
       "      <td>14376</td>\n",
       "      <td>8467</td>\n",
       "      <td>11520</td>\n",
       "      <td>6562</td>\n",
       "    </tr>\n",
       "    <tr>\n",
       "      <th>broj_predstava</th>\n",
       "      <td>66907</td>\n",
       "      <td>34968</td>\n",
       "      <td>11235</td>\n",
       "      <td>13107</td>\n",
       "    </tr>\n",
       "    <tr>\n",
       "      <th>broj_posetilaca_na_100</th>\n",
       "      <td>1080</td>\n",
       "      <td>300</td>\n",
       "      <td>210</td>\n",
       "      <td>200</td>\n",
       "    </tr>\n",
       "  </tbody>\n",
       "</table>\n",
       "</div>"
      ],
      "text/plain": [
       "teritorija              Beogradski_region  Region_Vojvodine  Region_Sumadije  \\\n",
       "broj_bioskopa                          19                24               32   \n",
       "broj_sedista                        14376              8467            11520   \n",
       "broj_predstava                      66907             34968            11235   \n",
       "broj_posetilaca_na_100               1080               300              210   \n",
       "\n",
       "teritorija              region_juzne_i_istocne_srbije  \n",
       "broj_bioskopa                                      19  \n",
       "broj_sedista                                     6562  \n",
       "broj_predstava                                  13107  \n",
       "broj_posetilaca_na_100                            200  "
      ]
     },
     "execution_count": 7,
     "metadata": {},
     "output_type": "execute_result"
    }
   ],
   "source": [
    "\n",
    "##rotiranje columns-rows\n",
    "transponovana_tabela = indeksirana_tabela.T\n",
    "transponovana_tabela"
   ]
  },
  {
   "cell_type": "code",
   "execution_count": 10,
   "id": "c6a56ad2",
   "metadata": {},
   "outputs": [
    {
     "data": {
      "text/plain": [
       "255.0"
      ]
     },
     "execution_count": 10,
     "metadata": {},
     "output_type": "execute_result"
    }
   ],
   "source": [
    "#mean\n",
    "indeksirana_tabela [\"broj_posetilaca_na_100\"].mean()\n",
    "#mediam\n",
    "indeksirana_tabela [\"broj_posetilaca_na_100\"].median()"
   ]
  },
  {
   "cell_type": "code",
   "execution_count": 22,
   "id": "2f57f3d5",
   "metadata": {},
   "outputs": [
    {
     "data": {
      "text/html": [
       "<div>\n",
       "<style scoped>\n",
       "    .dataframe tbody tr th:only-of-type {\n",
       "        vertical-align: middle;\n",
       "    }\n",
       "\n",
       "    .dataframe tbody tr th {\n",
       "        vertical-align: top;\n",
       "    }\n",
       "\n",
       "    .dataframe thead th {\n",
       "        text-align: right;\n",
       "    }\n",
       "</style>\n",
       "<table border=\"1\" class=\"dataframe\">\n",
       "  <thead>\n",
       "    <tr style=\"text-align: right;\">\n",
       "      <th></th>\n",
       "      <th>broj_bioskopa</th>\n",
       "      <th>broj_sedista</th>\n",
       "      <th>broj_predstava</th>\n",
       "      <th>broj_posetilaca_na_100</th>\n",
       "    </tr>\n",
       "    <tr>\n",
       "      <th>teritorija</th>\n",
       "      <th></th>\n",
       "      <th></th>\n",
       "      <th></th>\n",
       "      <th></th>\n",
       "    </tr>\n",
       "  </thead>\n",
       "  <tbody>\n",
       "    <tr>\n",
       "      <th>Region_Sumadije</th>\n",
       "      <td>32</td>\n",
       "      <td>11520</td>\n",
       "      <td>11235</td>\n",
       "      <td>210</td>\n",
       "    </tr>\n",
       "    <tr>\n",
       "      <th>region_juzne_i_istocne_srbije</th>\n",
       "      <td>19</td>\n",
       "      <td>6562</td>\n",
       "      <td>13107</td>\n",
       "      <td>200</td>\n",
       "    </tr>\n",
       "    <tr>\n",
       "      <th>Region_Vojvodine</th>\n",
       "      <td>24</td>\n",
       "      <td>8467</td>\n",
       "      <td>34968</td>\n",
       "      <td>300</td>\n",
       "    </tr>\n",
       "    <tr>\n",
       "      <th>Beogradski_region</th>\n",
       "      <td>19</td>\n",
       "      <td>14376</td>\n",
       "      <td>66907</td>\n",
       "      <td>1080</td>\n",
       "    </tr>\n",
       "  </tbody>\n",
       "</table>\n",
       "</div>"
      ],
      "text/plain": [
       "                               broj_bioskopa  broj_sedista  broj_predstava  \\\n",
       "teritorija                                                                   \n",
       "Region_Sumadije                           32         11520           11235   \n",
       "region_juzne_i_istocne_srbije             19          6562           13107   \n",
       "Region_Vojvodine                          24          8467           34968   \n",
       "Beogradski_region                         19         14376           66907   \n",
       "\n",
       "                               broj_posetilaca_na_100  \n",
       "teritorija                                             \n",
       "Region_Sumadije                                   210  \n",
       "region_juzne_i_istocne_srbije                     200  \n",
       "Region_Vojvodine                                  300  \n",
       "Beogradski_region                                1080  "
      ]
     },
     "execution_count": 22,
     "metadata": {},
     "output_type": "execute_result"
    }
   ],
   "source": [
    "#sortiranje\n",
    "sortirana_po_broju_predstava = indeksirana_tabela.sort_values(by = \"broj_predstava\")\n",
    "sortirana_po_broju_predstava"
   ]
  },
  {
   "cell_type": "code",
   "execution_count": null,
   "id": "2a7d1560",
   "metadata": {},
   "outputs": [],
   "source": [
    "."
   ]
  },
  {
   "cell_type": "code",
   "execution_count": null,
   "id": "1295dca1",
   "metadata": {},
   "outputs": [],
   "source": [
    "."
   ]
  },
  {
   "cell_type": "code",
   "execution_count": null,
   "id": "6a63ec00",
   "metadata": {},
   "outputs": [],
   "source": [
    "."
   ]
  },
  {
   "cell_type": "code",
   "execution_count": 12,
   "id": "7d36f1a4",
   "metadata": {
    "scrolled": true
   },
   "outputs": [
    {
     "data": {
      "text/html": [
       "<div>\n",
       "<style scoped>\n",
       "    .dataframe tbody tr th:only-of-type {\n",
       "        vertical-align: middle;\n",
       "    }\n",
       "\n",
       "    .dataframe tbody tr th {\n",
       "        vertical-align: top;\n",
       "    }\n",
       "\n",
       "    .dataframe thead th {\n",
       "        text-align: right;\n",
       "    }\n",
       "</style>\n",
       "<table border=\"1\" class=\"dataframe\">\n",
       "  <thead>\n",
       "    <tr style=\"text-align: right;\">\n",
       "      <th></th>\n",
       "      <th>IKT</th>\n",
       "      <th>Menadzment</th>\n",
       "      <th>Matematika</th>\n",
       "      <th>Rac_Sistemi</th>\n",
       "      <th>Ekonomija</th>\n",
       "      <th>Architektura</th>\n",
       "    </tr>\n",
       "    <tr>\n",
       "      <th>Ime</th>\n",
       "      <th></th>\n",
       "      <th></th>\n",
       "      <th></th>\n",
       "      <th></th>\n",
       "      <th></th>\n",
       "      <th></th>\n",
       "    </tr>\n",
       "  </thead>\n",
       "  <tbody>\n",
       "    <tr>\n",
       "      <th>Marko</th>\n",
       "      <td>6</td>\n",
       "      <td>6</td>\n",
       "      <td>6</td>\n",
       "      <td>6</td>\n",
       "      <td>9</td>\n",
       "      <td>9</td>\n",
       "    </tr>\n",
       "    <tr>\n",
       "      <th>Vesna</th>\n",
       "      <td>6</td>\n",
       "      <td>7</td>\n",
       "      <td>6</td>\n",
       "      <td>7</td>\n",
       "      <td>9</td>\n",
       "      <td>9</td>\n",
       "    </tr>\n",
       "    <tr>\n",
       "      <th>Sandra</th>\n",
       "      <td>7</td>\n",
       "      <td>7</td>\n",
       "      <td>6</td>\n",
       "      <td>7</td>\n",
       "      <td>9</td>\n",
       "      <td>9</td>\n",
       "    </tr>\n",
       "    <tr>\n",
       "      <th>Ivona</th>\n",
       "      <td>6</td>\n",
       "      <td>7</td>\n",
       "      <td>6</td>\n",
       "      <td>7</td>\n",
       "      <td>8</td>\n",
       "      <td>9</td>\n",
       "    </tr>\n",
       "    <tr>\n",
       "      <th>Sara</th>\n",
       "      <td>9</td>\n",
       "      <td>10</td>\n",
       "      <td>7</td>\n",
       "      <td>9</td>\n",
       "      <td>10</td>\n",
       "      <td>10</td>\n",
       "    </tr>\n",
       "  </tbody>\n",
       "</table>\n",
       "</div>"
      ],
      "text/plain": [
       "        IKT  Menadzment  Matematika  Rac_Sistemi  Ekonomija  Architektura\n",
       "Ime                                                                      \n",
       "Marko     6           6           6            6          9             9\n",
       "Vesna     6           7           6            7          9             9\n",
       "Sandra    7           7           6            7          9             9\n",
       "Ivona     6           7           6            7          8             9\n",
       "Sara      9          10           7            9         10            10"
      ]
     },
     "execution_count": 12,
     "metadata": {},
     "output_type": "execute_result"
    }
   ],
   "source": [
    "#analiza podataka po vrstama\n",
    "faks=[\n",
    "    [\"Marko\", 6,6,6,6,9,9],\n",
    "    [\"Vesna\", 6,7,6,7,9,9],\n",
    "    [\"Sandra\", 7,7,6,7,9,9],\n",
    "    [\"Ivona\", 6,7,6,7,8,9],\n",
    "    [\"Sara\", 9,10,7,9,10,10]\n",
    "     ]\n",
    "\n",
    "predmeti = pd.DataFrame(faks)\n",
    "predmeti.columns = [\"Ime\",\"IKT\",\"Menadzment\", \"Matematika\", \"Rac_Sistemi\",\"Ekonomija\",\"Architektura\"]\n",
    "ocene= predmeti.set_index(\"Ime\")\n",
    "ocene"
   ]
  },
  {
   "cell_type": "code",
   "execution_count": 18,
   "id": "8dd70f48",
   "metadata": {},
   "outputs": [
    {
     "name": "stdout",
     "output_type": "stream",
     "text": [
      "sarine ocene: \n",
      "IKT              9\n",
      "Menadzment      10\n",
      "Matematika       7\n",
      "Rac_Sistemi      9\n",
      "Ekonomija       10\n",
      "Architektura    10\n",
      "Name: Sara, dtype: int64\n",
      "Prosek ocena:  9.17\n",
      "najmanja ocena:  7\n",
      "najveca ocena:  10\n"
     ]
    }
   ],
   "source": [
    "#samo sarine ocene\n",
    "print(\"sarine ocene: \")\n",
    "print(ocene.loc[\"Sara\"])\n",
    "print(\"Prosek ocena: \", round(ocene.loc[\"Sara\"].mean(), 2))\n",
    "\n",
    "print(\"najmanja ocena: \", ocene.loc[\"Sara\"].min())\n",
    "print(\"najveca ocena: \", ocene.loc[\"Sara\"].max())\n"
   ]
  },
  {
   "cell_type": "code",
   "execution_count": 20,
   "id": "c00cf3f1",
   "metadata": {},
   "outputs": [
    {
     "name": "stdout",
     "output_type": "stream",
     "text": [
      "Marko Ima prosecnu ocenu  7.0\n",
      "Vesna Ima prosecnu ocenu  7.33\n",
      "Sandra Ima prosecnu ocenu  7.5\n",
      "Ivona Ima prosecnu ocenu  7.17\n",
      "Sara Ima prosecnu ocenu  9.17\n"
     ]
    }
   ],
   "source": [
    "#svi ucenici\n",
    "for student in ocene.index:\n",
    "    print(student, \"Ima prosecnu ocenu \", round(ocene.loc[student].mean(),2))"
   ]
  },
  {
   "cell_type": "code",
   "execution_count": null,
   "id": "c4cf6f0e",
   "metadata": {},
   "outputs": [],
   "source": []
  }
 ],
 "metadata": {
  "kernelspec": {
   "display_name": "Python 3 (ipykernel)",
   "language": "python",
   "name": "python3"
  },
  "language_info": {
   "codemirror_mode": {
    "name": "ipython",
    "version": 3
   },
   "file_extension": ".py",
   "mimetype": "text/x-python",
   "name": "python",
   "nbconvert_exporter": "python",
   "pygments_lexer": "ipython3",
   "version": "3.11.2"
  }
 },
 "nbformat": 4,
 "nbformat_minor": 5
}
